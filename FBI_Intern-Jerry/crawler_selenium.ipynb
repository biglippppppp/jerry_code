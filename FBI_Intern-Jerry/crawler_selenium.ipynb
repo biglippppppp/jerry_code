{
 "cells": [
  {
   "cell_type": "code",
   "execution_count": 2,
   "metadata": {},
   "outputs": [],
   "source": [
    "from selenium import webdriver\n",
    "from selenium.webdriver.common.by import By\n",
    "import time\n",
    "import random\n",
    "from selenium.webdriver.common.keys import Keys\n",
    "import json\n",
    "from opencc import OpenCC\n",
    "cc = OpenCC('s2tw')"
   ]
  },
  {
   "cell_type": "code",
   "execution_count": 3,
   "metadata": {},
   "outputs": [],
   "source": [
    "def spinning_cursor():\n",
    "    while True:\n",
    "        for cursor in '|/-\\\\':\n",
    "            yield cursor"
   ]
  },
  {
   "cell_type": "code",
   "execution_count": 4,
   "metadata": {},
   "outputs": [
    {
     "data": {
      "text/plain": [
       "['幫寶適 品牌', 'ARIEL 品牌', 'Kleenex舒潔 品牌']"
      ]
     },
     "execution_count": 4,
     "metadata": {},
     "output_type": "execute_result"
    }
   ],
   "source": [
    "daily_use = \"\"\"幫寶適、ARIEL、Kleenex舒潔、妙而舒、HUGGIES好奇、Kotex靠得住\"\"\".split('、')\n",
    "daily_use = [i.strip()+' 品牌' for i in daily_use]\n",
    "daily_use[:3]"
   ]
  },
  {
   "cell_type": "code",
   "execution_count": 5,
   "metadata": {},
   "outputs": [],
   "source": [
    "brand_li = daily_use"
   ]
  },
  {
   "cell_type": "code",
   "execution_count": 18,
   "metadata": {},
   "outputs": [
    {
     "name": "stderr",
     "output_type": "stream",
     "text": [
      "<ipython-input-18-324f75fb292e>:20: DeprecationWarning: executable_path has been deprecated, please pass in a Service object\n",
      "  driver = webdriver.Chrome('./chromedriver_win32/chromedriver')\n"
     ]
    },
    {
     "name": "stdout",
     "output_type": "stream",
     "text": [
      "1961年，幫寶適於焉誕生，由寶僑公司的研究員 Vic Mills、Norma Lueders Baker 開發而成。而品牌的英文名稱「Pampers」則是由第一間廣告代理商Benton & Bowles 的創意總監 ...\n",
      "眾多幫寶適- 幫寶適精選與特價商品，【官方直營】幫寶適超薄乾爽嬰兒紙尿褲/尿布(XL) 68片X2包(彩盒箱),【官方直營】幫寶適一級幫紙尿褲/尿布(M) 52片X4包_日本原裝/箱 ...\n",
      "最熱銷的家樂福幫寶適品牌館推薦！提供多款幫寶適品牌館，方便買快速配，量販價格超划算，冷凍/冷藏/常溫滿$800享免運費，以最優惠價格滿足你的需求，家樂福線上購物 ...\n",
      "幫寶適尿布材質柔軟服貼不傷嬰兒皮膚、乾爽透氣呵護寶貝細緻肌膚紙尿褲、拉拉褲通通有！日本境內版尿布，原裝進口幫寶適一級幫為日本產院NO.1 之選。 品牌分類.\n",
      "【幫寶適】一級幫拉拉褲/褲型尿布M/L/XL/XXL x2箱_日本原裝. $3198; 尚未開賣. 幫寶適一級幫拉拉褲/褲型(M)184片x2箱_日本原裝. $3198; 適用折價券. 幫寶適一級幫嬰兒 ...\n",
      "2020年12月10日 — 我的帳戶. 購物車購物車. 0. TOP. Pampers 幫寶適. rating reviews 4.9/5. 1年內已有1,486評價更新時間2022/11/30. Kirkland Signature 科克蘭 logo.\n",
      "2020年2月6日 — 看尿布品牌「幫寶適」如何改造網路行銷擊敗眾品牌. 圖片來源: pixabay. 【SmartM解讀】大家都知道新生兒的皮膚相當稚嫩，一不小心碰撞到，就可能會 ...\n",
      "媽咪們必買尿布推薦品牌！幫寶適、好奇、滿意寶寶、妙而舒、日本大王尿布等，針對尿布尺寸挑選、新生兒尿布價格與尿布試用包哪裡索取? 適合的紙尿褲，讓你家寶寶跟尿布 ...\n",
      "品牌名称：Pampers帮宝适 · 品牌源地：美国 · 价格区间：100~300 · 产品定位：婴儿 · 创始人：维克托·米勒 · 联系电话：4008303698 · 品牌定位：从怀孕到育儿的母婴关怀 · 天猫： ...\n",
      "【Pampers幫寶適】一級幫嬰兒濕紙巾純水保濕厚抽型(56抽x12包) 【Pampers幫寶適】一級幫超極上的舒適紙尿褲NB (32片x8包) 【Pampers幫寶適】一級幫超極上的舒適紙尿褲S ...\n",
      "康是美網購eShop提供Pampers 幫寶適相關優惠與推薦商品價格可供挑選，線上選購母嬰・尿布・文具・玩具相關商品輕鬆簡單，更多Pampers 幫寶適就在康是美網購eShop.\n",
      "Pampers（帮宝适）是宝洁公司旗下著名婴儿用品品牌，于1961年正式推向市场，一直致力为宝宝设计吸水性能良好且舒适的纸尿裤。第一款婴儿纸尿裤一经推出就受到无数新生 ...\n",
      "2011年7月5日 — 而這也是為何掌控2億美元研發預算的寶僑認為中國代表著龐大的機會。 現在，在經歷過龐大的研究與無數的錯誤後，幫寶適成為中國第一大的尿布品牌。而且就 ...\n",
      "套用篩選(0/20). 價格(NT$). ~. 品牌. 清除. 幫寶適(6); 幫寶適Pampers (2). 看更多 收起內容. 幫寶適. 篩選. (0). 商品排序. 商品排序; 上架時間: 由新到舊 ...\n",
      "買幫寶適到大樹健康購物網，幫寶適一級幫、巧虎安睡褲、拉拉褲、超薄乾爽等全系列特惠中，全館790免運，指定品項再送好禮，24小時線上客服即時諮詢，育兒問題隨時為您 ...\n",
      "幫寶適品牌尿布人氣排名第四的通路是家樂福Carrefour，許多在家樂福通路購買紙尿布的消費者都會同時購買衛生棉墊，這個通路可以一次滿足媽媽與嬰兒的需求。全聯福利中心則 ...\n",
      "帮宝适，全球知名的纸尿裤品牌之一，也是美国宝洁公司旗下著名的婴儿护理品牌，自1961年上市以来行销全球一百多个国家，每天全世界有超过3000万宝宝都在使用帮宝适纸尿裤, ...\n",
      "媽媽好專業婦幼用品連鎖提供幫寶適相關優惠與推薦商品價格可供挑選，線上選購尿布尿褲相關商品輕鬆簡單，更多幫寶適就在媽媽好專業婦幼用品連鎖.\n",
      "幫寶適，全球知名的紙尿褲品牌之一，也是美國寶潔公司旗下著名的嬰兒護理品牌，自1961年上市以來行銷全球一百多個國家，每天全世界有超過3000萬寶寶都在使用幫寶適 ...\n",
      "2022年3月31日 — 【育兒分享】六種品牌-13種人氣尿布試用評比 ... 幫寶適拉拉褲是綠幫的褲型紙尿褲，質地、觸感也和黏貼式的相同，褲型紙尿褲通常都會在尿布上標示 ...\n",
      "碧浪為全球化洗衣粉品牌之一。最初是在英國發售。碧浪品牌的英文為「Ariel」，中文品牌為「碧浪」，日文稱「アリエール」，在歐洲、中國、北美洲及亞洲各地皆有銷售。\n",
      "艾麗兒珠寶一向以良好之口碑及款式多稱譽珠寶界。公司秉持誠信，務實的理念，以服務品質留住客戶的心，力求每件商品品質，使客人感到滿意，物超所值，多年來更以合理 ...\n",
      "最熱銷的家樂福Ariel｜Lenor｜Febreze品牌館推薦！提供多款Ariel｜Lenor｜Febreze品牌館，方便買快速配，量販價格超划算，冷凍/冷藏/常溫滿$800享免運費，以最優惠價格 ...\n",
      "Ariel日本抗菌洗衣專家，寶僑（P&G）旗下洗衣精品牌Ariel，在日本銷售量居高不下，50倍深層抗菌、72小時長效抗臭，台日主婦一致好用推薦。線上購物人氣精選商品Ariel超 ...\n",
      "推薦您在樂天市場挑選其他品牌ariel 洗衣膠囊，享樂天市場限定優惠，再享天天1%回饋無上限，付款可使用樂天點數、ATM、信用卡、LINE PAY、先享後付、貨到付款等多元 ...\n",
      "法國品牌Carne Bollente Ariel, la petite vilaine 刺繡短梯little mermaid love 小美人魚之愛白.\n",
      "品牌. ARIEL ; 商品形式. 粉末 ; 香味. 清新 ; 件數. 35.27 Ounce ; 商品數量. 1.\n",
      "宝洁（中国）有限公司-碧浪，洗衣粉-洗衣液知名品牌，创始于1967年德国，全球日化龙头宝洁公司旗下著名洗涤品牌，世界上第一款加酶洗衣粉。 旗下店铺.\n",
      "Ariel 洗衣精增白劑 孚昌五金有限公司. 新竹市市場. 台南動漫展. 前後行車記錄器. 張秀卿原因. 眼鏡品牌推薦ptt. 孔宅里.\n",
      "價格品牌網-快搜價格: 品牌系列推薦ARIEL 濃縮洗衣、洗衣2023 新款，HANDS 台隆手創館洗衣衣、ariel 超濃縮價格， ariel、ariel 洗衣優惠折扣、福利品outlet， 超濃縮 ...\n",
      "屈臣氏推薦品牌ARIEL，提供您最齊全且熱門品牌商品。ARIEL包含眾多保養、彩妝、醫美、保健與民生用品供您選購，歡迎參觀選購及推薦!\n",
      "推薦各種P G Ariel 品牌專區例如日本P G LENOR幸福衣物柔順精柑橘馬鞭草480ml 兩入組ARIEL新誕生超濃縮抗菌抗臭洗衣精1 6件組800gx1瓶630gx6包經典抗菌型.\n",
      "碧浪(Ariel) ：歐洲最大的洗衣粉品牌之一。碧浪官方網站網址：http://www.pg.com.cn/products/Detail.aspx?Id=30 中文碧浪（Ariel）是寶潔公司於1967年在德國推出洗 ...\n",
      "【遠傳friDay購物】P&G品牌週4折up，Ariel抗菌洗衣精x12包↘$799，幫寶適超薄乾爽x1箱↘$1089.\n",
      "关注. 碧浪ARIEL. 深层去顽渍，洁净新卫士. 3187人关注. 是全球日化龙头宝洁公司旗下的著名洗涤品牌。碧浪洗衣粉于1967年在德国推出，是世界上第一款加酶洗衣粉。\n",
      "ARIELアリエールBIO;P&G原裝正貨100%品質保證;持續發臭!;皮脂氧化; ... 【ARIEL】日本進口4D超濃縮抗菌洗衣膠囊/洗衣球31顆*3袋室內晾衣型 ... 品牌：日本Ariel.\n",
      "【ARIEL】日本進口4D超濃縮抗菌洗衣膠囊/洗衣球31顆*3袋抗菌去漬型. $799. 【日本ARIEL】新升級超濃縮深層抗菌除臭洗衣精630g補充. 限時特價促銷合購 ...\n",
      "購物滿HK$300 包香港送貨（上門派送、Pickupp服務點、7-Eleven 便利店、Alfred24 智能櫃） *以折扣後價錢計算. 關於我們 · 聯絡我們 · English.\n",
      "【日本ARIEL 新誕生】超濃縮抗菌抗臭洗衣精補充包. ... 【日本ARIEL】4D超濃縮抗菌洗衣膠囊/洗衣球31顆x. ... 【P&G Ariel】4D炭酸機能強洗淨洗衣膠球補充包3.\n",
      "舒潔Kleenex,抽取式衛生紙,濕式衛生紙,廚房紙巾各式規格種類,與Kleenex 舒潔,舒潔熱門品牌,優惠便宜好價格,值得推薦！\n",
      "舒潔,優惠便宜好價格！Kleenex 舒潔,舒潔,靠得住-買8送6品牌推薦,並提供您完整規格種類的舒潔Kleenex,靠得住Kotex,成人紙尿褲！\n",
      "舒潔（Kleenex）——全球最知名的面巾紙品牌，多次被美國《商業周刊》評為全世界100個最有價值的品牌之一。舒潔的官方網址：http://www.kleenex.com/1924年金佰利公司 ...\n",
      "價格品牌網-品牌: Kleenex 舒潔價位介紹以及評價和推薦舒潔kleenex, 舒潔, kleenex 舒潔, kleenex, 包包2023最新款舒潔, 抽取式衛生紙, 摺疊擦手紙特價優惠活動、比價 ...\n",
      "Kleenex 舒潔. 26 銷售量. 1 則評價. 5. 品牌分類. 衛生紙/棉/個人用品. ... Kleenex 舒潔- 棉柔舒適抽取衛生紙(100抽x10包x6串/箱). 已售出3. $ 1680. ranking-badge.\n",
      "“Kleenex”（舒洁）一词，也被收录进英文字典，成为“纸巾”的代名词。作为全球最知名的面巾纸品牌，Kleenex多次被美国《商业周刊》评为全世界100个最有价值的品牌之一。\n",
      "舒洁 世界知名面巾纸品牌 本词条 是多义词，共5个义项 舒洁（Kleenex）是全球最知名的 面巾纸面巾纸 品牌之一，曾多次被美国《 商业周刊商业周刊 》评为全世界100个最 ...\n",
      "美国金佰利公司旗下生活用纸品牌，1924年诞生。Kleenex（舒洁）是全球知名的面巾纸品牌，多年来，Kleenex一直致力于提供最优质的产品给广大的消费者，Kleenex舒洁纸巾 ...\n",
      "1924年，美國金佰利公司推出了世界上第一張面巾紙，從此消費者擁有了柔軟、舒適、清潔的面巾紙。“Kleenex”（舒潔）一詞，也被收錄進英文字典，成為“紙巾”的代名詞。作為 ...\n",
      "8 天前 — Kleenex 舒潔濕式衛生紙46張*32入--好市多Costco官網代購Kleenex 舒潔三層 ... 狂殺64折up $ 【Kleenex 舒潔《4月兒童潔牙趣》 《4月暢銷洗沐品牌聯合 ...\n",
      "舒潔Kleenex 。 138359 個讚· 87 人正在談論這個。「給家人最好的」舒潔，從今以後更要以最好的產品傳遞「舒服，潔淨，新淨界」的品牌理念，持續體現我們對消費者的 ...\n",
      "品牌. Kleenex 舒潔. 運送. 宅配免運 訂單成立後預計3 個工作天內出貨 ... 最高環保林木標章認證; 可在馬桶中分解; 不含螢光劑及其他有害化學物質; 舒潔小拉拉陪你度過 ...\n",
      "momo 舒潔衛生紙- 全聯舒潔衛生紙詳細懶人包 · 也有出衛生紙！朵舒momoco舒適柔抽取式衛生紙，張數多、環保可沖馬桶、價錢親民但品質不輸知名品牌衛生紙！>試貨momo也有出 ...\n",
      "5 天前 — 濕式衛生紙,舒潔Kleenex,舒潔,品牌旗艦,抽取式衛生紙,濕式衛生紙,廚房紙巾抽取式衛生紙,濕式衛生紙,廚房紙巾各式規格種類,與Kleenex 舒潔,舒潔熱門 ...\n",
      "3 天前 — 女性私密處專用配方，通過美國皮膚科醫師認證，溫和不刺激. 折價券抽取式衛生紙,舒潔Kleenex,舒潔,品牌旗艦,抽取式衛生紙,濕式衛生紙,廚房紙巾抽取式 ...\n",
      "收錄五大類型快速消費品的輿情態勢，針對客戶最關注的消費者面向進行語意分析，擁有業界最精確的品類排行榜與輿情話題列表，豐富的數據資料庫是品牌客戶觀察產業的第一 ...\n",
      "在訂購熊貓超市(中正店)的【Kleenex 舒潔】濕式衛生紙10抽x3包外送到你家， ... 質地柔軟品名：【Kleenex 舒潔】濕式衛生紙10抽x3包規格：10抽x3包g 品牌：舒潔原 ...\n",
      "【免運直出】舒潔棉柔舒適抽取衛生紙100抽(12包x6串). $1099. 【免運直出】舒潔喀什米爾抽取衛生紙90抽x24包 ... 【Kleenex 舒潔】VIVA摺疊紙巾150張x2包x2串.\n",
      "舒洁Kleenex是金佰利旗下产品。纸巾、纸品知名品牌，世界知名生活用纸品牌，全球500强企业，全球较大的纸巾生产厂商之一，全球健康卫生护理领域的知名企业，世界著名的 ...\n",
      "經過兩年規劃建廠，於1971年8月正式生產「舒潔」衛生紙、面紙及餐巾紙產品。 ... 平版衛生紙首次以提袋式包裝上市，淘汰傳統不方便的長串式包裝，之後其他品牌隨之跟進 ...\n",
      "舒洁有种感觉是温柔体贴的，就像舒洁面巾纸，柔软细致的触感让心和家一起舒适起来，始终给自己和家人温暖的关爱。 舒洁. 舒洁Kleenex，来自世界著名的生活用纸制造商 ...\n",
      "這是介紹Kao 妙而舒產品的列表頁面。 ... 妙而舒. Merries 妙而舒妙而舒體貼媽媽呵護寶寶的心情，以日本專業技術，全面呵護寶寶細緻肌膚。\n",
      "妙而舒了解爸媽總想給寶寶最好的，在日本以30年的肌膚研究，打造給寶寶溫柔呵護肌膚的紙尿褲，同時深受日本媽媽們愛戴，連續四年榮獲日本媽媽票選No.1＊的推薦。並於2019年 ...\n",
      "妙而舒. 共20 件商品. 預設排序 ...\n",
      "你絕對不能錯過的網路人氣推薦Merries 妙而舒商品就在蝦皮購物！買Merries 妙而舒立即上蝦皮品牌專區享超低折扣優惠，搭配賣家評價線上網購Merries 妙而舒超簡單！\n",
      "妙而舒,妙兒褲,金緻柔點,瞬吸舒爽各式規格種類,與妙而舒熱門品牌,優惠便宜好價格,值得推薦！ ... 【妙而舒】瞬吸舒爽黏貼型紙尿褲/尿布L-XL(贈提袋/MOMO獨家彩箱).\n",
      "妙而舒妙兒褲L(箱購27片X6包) · 妙而舒妙兒褲XL(箱購24片X6包) · 妙而舒瞬吸舒爽紙尿褲L(箱購52片x4包) · 妙而舒瞬吸舒爽紙尿褲XL(箱購44片x4包) · 妙而舒頂柔舒護黏貼式紙尿褲 ...\n",
      "2023年1月7日 — 妙而舒算是我蠻常幫小朋友選購的紙尿褲(尿布)品牌，後來幾乎成為我個人喜愛與信賴的品牌之一。當初為了尋找適合寶寶的紙尿褲(尿布)以及滿足媽媽的好奇 ...\n",
      "眾多妙而舒- 尿布/濕紙巾精選與特價商品，妙而舒頂柔舒護褲型紙尿褲(日本版) M46片/包,妙而舒瞬吸舒爽紙尿褲(S) (78片X3包/箱購),妙而舒頂柔舒護褲型紙尿褲(日本版) ...\n",
      "歡迎來到人氣店家德芳保健藥妝，想要選購您喜愛的Merries 妙而舒、媽媽寶寶品牌推薦商品，想要找到最新最優惠的Merries 妙而舒，都在網路人氣店家德芳保健藥妝 ...\n",
      "媽媽好專業婦幼用品連鎖提供妙而舒相關優惠與推薦商品價格可供挑選，線上選購尿布尿褲相關商品輕鬆簡單，更多妙而舒就在媽媽好專業婦幼用品連鎖.\n",
      "眾多妙而舒- 妙而舒精選與特價商品，妙而舒妙兒褲(L) (27片/包),妙而舒妙兒褲(XXL) (28片X2包/箱購),妙而舒妙兒褲(XL) (24片X6包/箱購),妙而舒妙兒褲(XXL) (28片/包), ...\n",
      "買妙而舒到大樹健康購物網，妙而舒瞬吸舒爽、頂柔舒護、妙兒褲、金緻柔點等全系列特惠中，全館790免運指定品項再送好禮，24小時線上客服即時諮詢，育兒問題隨時為您 ...\n",
      "價格品牌網-品牌: 妙而舒價位介紹以及評價和推薦妙而舒, 妙而舒妙而褲, 紙尿褲, 紙尿, 尿褲2023最新款黏貼型, 本月主打活動, 妙兒褲特價優惠活動、比價以及週年慶折扣 ...\n",
      "日本花王妙而舒嬰兒紙尿褲- Kao Worldwide.\n",
      "妙而舒致力于婴儿用品的研发，悉心呵护宝宝体格的成长、心智的发育。让宝宝舒适自如每一天，父母使用更安心，令更多的快乐与笑容充满每个家庭。 妙而舒“Merries ...\n",
      "【妙而舒】 妙兒褲Lx6包(27片/包) 箱購【妙而舒】 妙兒褲Mx6包(33片/包) 箱購【妙而舒】 妙兒褲XLx6包(24片/包) 箱購【妙而舒】 妙兒褲XXLx2包(28片/包) 箱購.\n",
      "屈臣氏推薦品牌妙而舒，提供您最齊全且熱門品牌商品。妙而舒包含眾多保養、彩妝、醫美、保健與民生用品供您選購，歡迎參觀選購及推薦!\n",
      "兒童口腔保健 · 嬰童洗髮精 · 嬰兒紙尿褲 · 紙尿褲 · 褲型紙尿褲. view: 9, 18, 36, 72. 最多人購買| 價格排序. 【品牌別】妙而舒總計0件商品. Prev; Next. Prev; Next ...\n"
     ]
    },
    {
     "ename": "NoSuchWindowException",
     "evalue": "Message: no such window: target window already closed\nfrom unknown error: web view not found\n  (Session info: chrome=115.0.5790.170)\nStacktrace:\nBacktrace:\n\tGetHandleVerifier [0x00A9A813+48355]\n\t(No symbol) [0x00A2C4B1]\n\t(No symbol) [0x00935358]\n\t(No symbol) [0x0091D293]\n\t(No symbol) [0x0097E37B]\n\t(No symbol) [0x0098C473]\n\t(No symbol) [0x0097A536]\n\t(No symbol) [0x009582DC]\n\t(No symbol) [0x009593DD]\n\tGetHandleVerifier [0x00CFAABD+2539405]\n\tGetHandleVerifier [0x00D3A78F+2800735]\n\tGetHandleVerifier [0x00D3456C+2775612]\n\tGetHandleVerifier [0x00B251E0+616112]\n\t(No symbol) [0x00A35F8C]\n\t(No symbol) [0x00A32328]\n\t(No symbol) [0x00A3240B]\n\t(No symbol) [0x00A24FF7]\n\tBaseThreadInitThunk [0x761600C9+25]\n\tRtlGetAppContainerNamedObjectPath [0x77477B1E+286]\n\tRtlGetAppContainerNamedObjectPath [0x77477AEE+238]\n",
     "output_type": "error",
     "traceback": [
      "\u001b[1;31m---------------------------------------------------------------------------\u001b[0m",
      "\u001b[1;31mNoSuchWindowException\u001b[0m                     Traceback (most recent call last)",
      "\u001b[1;32m<ipython-input-18-324f75fb292e>\u001b[0m in \u001b[0;36m<module>\u001b[1;34m\u001b[0m\n\u001b[0;32m     38\u001b[0m \u001b[1;31m#                 print('Found \"Next\" link')\u001b[0m\u001b[1;33m\u001b[0m\u001b[1;33m\u001b[0m\u001b[1;33m\u001b[0m\u001b[0m\n\u001b[0;32m     39\u001b[0m                 \u001b[0mtime\u001b[0m\u001b[1;33m.\u001b[0m\u001b[0msleep\u001b[0m\u001b[1;33m(\u001b[0m\u001b[0mrandom\u001b[0m\u001b[1;33m.\u001b[0m\u001b[0muniform\u001b[0m\u001b[1;33m(\u001b[0m\u001b[1;36m3\u001b[0m\u001b[1;33m,\u001b[0m\u001b[1;36m6\u001b[0m\u001b[1;33m)\u001b[0m\u001b[1;33m)\u001b[0m\u001b[1;33m\u001b[0m\u001b[1;33m\u001b[0m\u001b[0m\n\u001b[1;32m---> 40\u001b[1;33m                 \u001b[0mnext_links\u001b[0m\u001b[1;33m[\u001b[0m\u001b[1;36m0\u001b[0m\u001b[1;33m]\u001b[0m\u001b[1;33m.\u001b[0m\u001b[0mclick\u001b[0m\u001b[1;33m(\u001b[0m\u001b[1;33m)\u001b[0m\u001b[1;33m\u001b[0m\u001b[1;33m\u001b[0m\u001b[0m\n\u001b[0m\u001b[0;32m     41\u001b[0m             \u001b[1;32melse\u001b[0m\u001b[1;33m:\u001b[0m\u001b[1;33m\u001b[0m\u001b[1;33m\u001b[0m\u001b[0m\n\u001b[0;32m     42\u001b[0m \u001b[1;31m#                 print('There is no \"Next\" link')\u001b[0m\u001b[1;33m\u001b[0m\u001b[1;33m\u001b[0m\u001b[1;33m\u001b[0m\u001b[0m\n",
      "\u001b[1;32mc:\\Users\\pojer\\anaconda3\\lib\\site-packages\\selenium\\webdriver\\remote\\webelement.py\u001b[0m in \u001b[0;36mclick\u001b[1;34m(self)\u001b[0m\n\u001b[0;32m     91\u001b[0m     \u001b[1;32mdef\u001b[0m \u001b[0mclick\u001b[0m\u001b[1;33m(\u001b[0m\u001b[0mself\u001b[0m\u001b[1;33m)\u001b[0m \u001b[1;33m->\u001b[0m \u001b[1;32mNone\u001b[0m\u001b[1;33m:\u001b[0m\u001b[1;33m\u001b[0m\u001b[1;33m\u001b[0m\u001b[0m\n\u001b[0;32m     92\u001b[0m         \u001b[1;34m\"\"\"Clicks the element.\"\"\"\u001b[0m\u001b[1;33m\u001b[0m\u001b[1;33m\u001b[0m\u001b[0m\n\u001b[1;32m---> 93\u001b[1;33m         \u001b[0mself\u001b[0m\u001b[1;33m.\u001b[0m\u001b[0m_execute\u001b[0m\u001b[1;33m(\u001b[0m\u001b[0mCommand\u001b[0m\u001b[1;33m.\u001b[0m\u001b[0mCLICK_ELEMENT\u001b[0m\u001b[1;33m)\u001b[0m\u001b[1;33m\u001b[0m\u001b[1;33m\u001b[0m\u001b[0m\n\u001b[0m\u001b[0;32m     94\u001b[0m \u001b[1;33m\u001b[0m\u001b[0m\n\u001b[0;32m     95\u001b[0m     \u001b[1;32mdef\u001b[0m \u001b[0msubmit\u001b[0m\u001b[1;33m(\u001b[0m\u001b[0mself\u001b[0m\u001b[1;33m)\u001b[0m\u001b[1;33m:\u001b[0m\u001b[1;33m\u001b[0m\u001b[1;33m\u001b[0m\u001b[0m\n",
      "\u001b[1;32mc:\\Users\\pojer\\anaconda3\\lib\\site-packages\\selenium\\webdriver\\remote\\webelement.py\u001b[0m in \u001b[0;36m_execute\u001b[1;34m(self, command, params)\u001b[0m\n\u001b[0;32m    408\u001b[0m             \u001b[0mparams\u001b[0m \u001b[1;33m=\u001b[0m \u001b[1;33m{\u001b[0m\u001b[1;33m}\u001b[0m\u001b[1;33m\u001b[0m\u001b[1;33m\u001b[0m\u001b[0m\n\u001b[0;32m    409\u001b[0m         \u001b[0mparams\u001b[0m\u001b[1;33m[\u001b[0m\u001b[1;34m\"id\"\u001b[0m\u001b[1;33m]\u001b[0m \u001b[1;33m=\u001b[0m \u001b[0mself\u001b[0m\u001b[1;33m.\u001b[0m\u001b[0m_id\u001b[0m\u001b[1;33m\u001b[0m\u001b[1;33m\u001b[0m\u001b[0m\n\u001b[1;32m--> 410\u001b[1;33m         \u001b[1;32mreturn\u001b[0m \u001b[0mself\u001b[0m\u001b[1;33m.\u001b[0m\u001b[0m_parent\u001b[0m\u001b[1;33m.\u001b[0m\u001b[0mexecute\u001b[0m\u001b[1;33m(\u001b[0m\u001b[0mcommand\u001b[0m\u001b[1;33m,\u001b[0m \u001b[0mparams\u001b[0m\u001b[1;33m)\u001b[0m\u001b[1;33m\u001b[0m\u001b[1;33m\u001b[0m\u001b[0m\n\u001b[0m\u001b[0;32m    411\u001b[0m \u001b[1;33m\u001b[0m\u001b[0m\n\u001b[0;32m    412\u001b[0m     \u001b[1;32mdef\u001b[0m \u001b[0mfind_element\u001b[0m\u001b[1;33m(\u001b[0m\u001b[0mself\u001b[0m\u001b[1;33m,\u001b[0m \u001b[0mby\u001b[0m\u001b[1;33m=\u001b[0m\u001b[0mBy\u001b[0m\u001b[1;33m.\u001b[0m\u001b[0mID\u001b[0m\u001b[1;33m,\u001b[0m \u001b[0mvalue\u001b[0m\u001b[1;33m=\u001b[0m\u001b[1;32mNone\u001b[0m\u001b[1;33m)\u001b[0m \u001b[1;33m->\u001b[0m \u001b[0mWebElement\u001b[0m\u001b[1;33m:\u001b[0m\u001b[1;33m\u001b[0m\u001b[1;33m\u001b[0m\u001b[0m\n",
      "\u001b[1;32mc:\\Users\\pojer\\anaconda3\\lib\\site-packages\\selenium\\webdriver\\remote\\webdriver.py\u001b[0m in \u001b[0;36mexecute\u001b[1;34m(self, driver_command, params)\u001b[0m\n\u001b[0;32m    442\u001b[0m         \u001b[0mresponse\u001b[0m \u001b[1;33m=\u001b[0m \u001b[0mself\u001b[0m\u001b[1;33m.\u001b[0m\u001b[0mcommand_executor\u001b[0m\u001b[1;33m.\u001b[0m\u001b[0mexecute\u001b[0m\u001b[1;33m(\u001b[0m\u001b[0mdriver_command\u001b[0m\u001b[1;33m,\u001b[0m \u001b[0mparams\u001b[0m\u001b[1;33m)\u001b[0m\u001b[1;33m\u001b[0m\u001b[1;33m\u001b[0m\u001b[0m\n\u001b[0;32m    443\u001b[0m         \u001b[1;32mif\u001b[0m \u001b[0mresponse\u001b[0m\u001b[1;33m:\u001b[0m\u001b[1;33m\u001b[0m\u001b[1;33m\u001b[0m\u001b[0m\n\u001b[1;32m--> 444\u001b[1;33m             \u001b[0mself\u001b[0m\u001b[1;33m.\u001b[0m\u001b[0merror_handler\u001b[0m\u001b[1;33m.\u001b[0m\u001b[0mcheck_response\u001b[0m\u001b[1;33m(\u001b[0m\u001b[0mresponse\u001b[0m\u001b[1;33m)\u001b[0m\u001b[1;33m\u001b[0m\u001b[1;33m\u001b[0m\u001b[0m\n\u001b[0m\u001b[0;32m    445\u001b[0m             \u001b[0mresponse\u001b[0m\u001b[1;33m[\u001b[0m\u001b[1;34m\"value\"\u001b[0m\u001b[1;33m]\u001b[0m \u001b[1;33m=\u001b[0m \u001b[0mself\u001b[0m\u001b[1;33m.\u001b[0m\u001b[0m_unwrap_value\u001b[0m\u001b[1;33m(\u001b[0m\u001b[0mresponse\u001b[0m\u001b[1;33m.\u001b[0m\u001b[0mget\u001b[0m\u001b[1;33m(\u001b[0m\u001b[1;34m\"value\"\u001b[0m\u001b[1;33m,\u001b[0m \u001b[1;32mNone\u001b[0m\u001b[1;33m)\u001b[0m\u001b[1;33m)\u001b[0m\u001b[1;33m\u001b[0m\u001b[1;33m\u001b[0m\u001b[0m\n\u001b[0;32m    446\u001b[0m             \u001b[1;32mreturn\u001b[0m \u001b[0mresponse\u001b[0m\u001b[1;33m\u001b[0m\u001b[1;33m\u001b[0m\u001b[0m\n",
      "\u001b[1;32mc:\\Users\\pojer\\anaconda3\\lib\\site-packages\\selenium\\webdriver\\remote\\errorhandler.py\u001b[0m in \u001b[0;36mcheck_response\u001b[1;34m(self, response)\u001b[0m\n\u001b[0;32m    247\u001b[0m                 \u001b[0malert_text\u001b[0m \u001b[1;33m=\u001b[0m \u001b[0mvalue\u001b[0m\u001b[1;33m[\u001b[0m\u001b[1;34m\"alert\"\u001b[0m\u001b[1;33m]\u001b[0m\u001b[1;33m.\u001b[0m\u001b[0mget\u001b[0m\u001b[1;33m(\u001b[0m\u001b[1;34m\"text\"\u001b[0m\u001b[1;33m)\u001b[0m\u001b[1;33m\u001b[0m\u001b[1;33m\u001b[0m\u001b[0m\n\u001b[0;32m    248\u001b[0m             \u001b[1;32mraise\u001b[0m \u001b[0mexception_class\u001b[0m\u001b[1;33m(\u001b[0m\u001b[0mmessage\u001b[0m\u001b[1;33m,\u001b[0m \u001b[0mscreen\u001b[0m\u001b[1;33m,\u001b[0m \u001b[0mstacktrace\u001b[0m\u001b[1;33m,\u001b[0m \u001b[0malert_text\u001b[0m\u001b[1;33m)\u001b[0m  \u001b[1;31m# type: ignore[call-arg]  # mypy is not smart enough here\u001b[0m\u001b[1;33m\u001b[0m\u001b[1;33m\u001b[0m\u001b[0m\n\u001b[1;32m--> 249\u001b[1;33m         \u001b[1;32mraise\u001b[0m \u001b[0mexception_class\u001b[0m\u001b[1;33m(\u001b[0m\u001b[0mmessage\u001b[0m\u001b[1;33m,\u001b[0m \u001b[0mscreen\u001b[0m\u001b[1;33m,\u001b[0m \u001b[0mstacktrace\u001b[0m\u001b[1;33m)\u001b[0m\u001b[1;33m\u001b[0m\u001b[1;33m\u001b[0m\u001b[0m\n\u001b[0m",
      "\u001b[1;31mNoSuchWindowException\u001b[0m: Message: no such window: target window already closed\nfrom unknown error: web view not found\n  (Session info: chrome=115.0.5790.170)\nStacktrace:\nBacktrace:\n\tGetHandleVerifier [0x00A9A813+48355]\n\t(No symbol) [0x00A2C4B1]\n\t(No symbol) [0x00935358]\n\t(No symbol) [0x0091D293]\n\t(No symbol) [0x0097E37B]\n\t(No symbol) [0x0098C473]\n\t(No symbol) [0x0097A536]\n\t(No symbol) [0x009582DC]\n\t(No symbol) [0x009593DD]\n\tGetHandleVerifier [0x00CFAABD+2539405]\n\tGetHandleVerifier [0x00D3A78F+2800735]\n\tGetHandleVerifier [0x00D3456C+2775612]\n\tGetHandleVerifier [0x00B251E0+616112]\n\t(No symbol) [0x00A35F8C]\n\t(No symbol) [0x00A32328]\n\t(No symbol) [0x00A3240B]\n\t(No symbol) [0x00A24FF7]\n\tBaseThreadInitThunk [0x761600C9+25]\n\tRtlGetAppContainerNamedObjectPath [0x77477B1E+286]\n\tRtlGetAppContainerNamedObjectPath [0x77477AEE+238]\n"
     ]
    }
   ],
   "source": [
    "spinner = spinning_cursor()\n",
    "data_dic = {}\n",
    "page_num_dic = {}\n",
    "forloop_count = 0\n",
    "for emo in brand_li:\n",
    "    forloop_count+=1\n",
    "    if forloop_count%10==0: #每10家休息10分鐘\n",
    "        time.sleep(60*10) \n",
    "    time.sleep(10) #每家休息幾秒\n",
    "    try:\n",
    "        #options.add_argument(\"headless\")\n",
    "        options = webdriver.ChromeOptions()\n",
    "        options.add_experimental_option('excludeSwitches', ['enable-logging'])\n",
    "        # chrome_options.add_argument('lang=zh-CN,zh,zh-TW,en-US,en')\n",
    "        # chrome_options.add_argument(\n",
    "        #     'user-agent=Mozilla/5.0 (Macintosh; Intel Mac OS X 10_13_5) AppleWebKit/537.36 (KHTML, like Gecko) Chrome/67.0.3396.99 Safari/537.36')\n",
    "        # option.add_argument('--disable-blink-features=AutomationControlled')\n",
    "        # 加socks5代理\n",
    "        # chrome_options.add_argument(\"proxy-server=socks5://127.0.0.1:1080\")\n",
    "        driver = webdriver.Chrome('./chromedriver_win32/chromedriver')\n",
    "        \n",
    "        \n",
    "        driver.implicitly_wait(5)\n",
    "        driver.get('https://www.google.com') #navigating to google\n",
    "        search_gog = driver.find_element(By.CLASS_NAME, \"gLFyf\")\n",
    "        search_gog.send_keys(f'{emo}')\n",
    "        search_gog.send_keys(Keys.RETURN)\n",
    "        li = []\n",
    "        for i in range(3):  # page number\n",
    "            for des in driver.find_elements(By.CLASS_NAME, \"VwiC3b.yXK7lf.MUxGbd.yDYNvb.lyLwlc.lEBKkf\"):\n",
    "                text = des.text\n",
    "                print(text)\n",
    "                li.append(cc.convert(text))\n",
    "\n",
    "            next_links = driver.find_elements(By.LINK_TEXT, '下一頁')# note it is find_elements with an s\n",
    "            next_links[0].location_once_scrolled_into_view\n",
    "            if len(next_links) != 0:\n",
    "#                 print('Found \"Next\" link')\n",
    "                time.sleep(random.uniform(3,6))\n",
    "                next_links[0].click()\n",
    "            else:\n",
    "#                 print('There is no \"Next\" link')\n",
    "                break\n",
    "\n",
    "        data_dic[f'{emo}'] = li\n",
    "        page_num_dic[f'{emo}'] = i\n",
    "        try:\n",
    "            with open(\"sample.json\", \"r+\", encoding='utf8') as file:\n",
    "                data = json.load(file)\n",
    "                data.update(data_dic)\n",
    "                file.seek(0)\n",
    "                json.dump(data, file, indent = 4)\n",
    "        except:\n",
    "            with open(\"sample.json\", \"w\") as outfile:\n",
    "                json.dump(data_dic, outfile, indent = 4)\n",
    "    \n",
    "    finally:\n",
    "#         input('pausing (hit enter to terminate) ...')\n",
    "        driver.quit()"
   ]
  }
 ],
 "metadata": {
  "kernelspec": {
   "display_name": "base",
   "language": "python",
   "name": "python3"
  },
  "language_info": {
   "codemirror_mode": {
    "name": "ipython",
    "version": 3
   },
   "file_extension": ".py",
   "mimetype": "text/x-python",
   "name": "python",
   "nbconvert_exporter": "python",
   "pygments_lexer": "ipython3",
   "version": "3.8.8"
  },
  "orig_nbformat": 4
 },
 "nbformat": 4,
 "nbformat_minor": 2
}
