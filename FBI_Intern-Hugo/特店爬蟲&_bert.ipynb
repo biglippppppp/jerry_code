{
  "cells": [
    {
      "cell_type": "code",
      "execution_count": 5,
      "metadata": {
        "colab": {
          "base_uri": "https://localhost:8080/"
        },
        "id": "2PDM-reIAGmx",
        "outputId": "ae5981ef-bfed-4ea3-f3ac-1c45a1862cfc"
      },
      "outputs": [
        {
          "name": "stdout",
          "output_type": "stream",
          "text": [
            "當前工作目錄: c:\\Users\\User\\OneDrive\\桌面Dell\\富邦\\FBI_Intern\n"
          ]
        }
      ],
      "source": [
        "import os\n",
        "print(\"當前工作目錄:\", os.getcwd())"
      ]
    },
    {
      "cell_type": "code",
      "execution_count": 6,
      "metadata": {
        "id": "Fi9MJBOX4Gra"
      },
      "outputs": [],
      "source": [
        "import json\n",
        "import requests\n",
        "import time\n",
        "import re\n",
        "import os\n",
        "import warnings\n",
        "import pandas as pd\n",
        "from requests.packages.urllib3.exceptions import InsecureRequestWarning\n",
        "from bs4 import BeautifulSoup\n",
        "import urllib\n",
        "from fake_useragent import UserAgent\n",
        "from selenium import webdriver\n",
        "from selenium.webdriver.support.ui import WebDriverWait\n",
        "from selenium.webdriver.support import expected_conditions as EC\n",
        "from selenium.webdriver.common.by import By\n",
        "from selenium.webdriver.chrome.service import Service\n",
        "from concurrent.futures import ThreadPoolExecutor, as_completed\n",
        "from tqdm import tqdm\n",
        "\"\"\" 初始化 \"\"\"\n",
        "# 忽略不安全連線警告\n",
        "warnings.simplefilter('ignore', InsecureRequestWarning)\n",
        "user_agent = UserAgent()\n",
        "\n",
        "# 使用header偽裝成edge瀏覽器下瀏覽行為\n",
        "headers = {'content-type': 'text/html; charset = UTF-8',\n",
        "    \"Accept\": \"text/html,application/xhtml+xml,application/xml;q=0.9,image/avif,image/webp,image/apng,*/*;q=0.8,application/signed-exchange;v=b3;q=0.7\",\n",
        "    \"Accept-Encoding\": \"gzip, deflate, br\",\n",
        "    \"Accept-Language\": \"zh-TW,zh;q=0.9,en-US;q=0.8,en;q=0.7\",\n",
        "    \"Referer\": \"https://www.learncodewithmike.com/\",\n",
        "    \"Sec-Ch-Ua\": \"\\\"Not/A)Brand\\\";v=\\\"99\\\", \\\"Google Chrome\\\";v=\\\"115\\\", \\\"Chromium\\\";v=\\\"115\\\"\",\n",
        "    \"Sec-Ch-Ua-Mobile\": \"?0\",\n",
        "    \"Sec-Ch-Ua-Platform\": \"\\\"Windows\\\"\",\n",
        "    \"Sec-Fetch-Dest\": \"document\",\n",
        "    \"Sec-Fetch-Mode\": \"navigate\",\n",
        "    \"Sec-Fetch-Site\": \"cross-site\",\n",
        "    \"Sec-Fetch-User\": \"?1\",\n",
        "    \"Upgrade-Insecure-Requests\": \"1\",\n",
        "    \"User-Agent\": user_agent.random,\n",
        "    \"X-Amzn-Trace-Id\": \"Root=1-64d18fe1-1f5ba9715c698e6340cfa803\"\n",
        "          }\n",
        "\n",
        "# 假設這是處理單個商戶的函數\n",
        "\n",
        "\n",
        "sleep_time = 10\n",
        "\n",
        "def timer(func):\n",
        "    def wrapper(*args, **kwargs):\n",
        "        tic = time.time()\n",
        "        value = func(*args, **kwargs)\n",
        "        print('Time consumed: {} sec.'.format(time.time()-tic))\n",
        "        return value\n",
        "    return wrapper\n",
        "\n",
        "\n",
        "\n",
        "class Merchant:\n",
        "    def __init__(self, name, keyword, page):\n",
        "        self.name = name\n",
        "        self.page = page\n",
        "        self.keyword = keyword\n",
        "        self.get_html()\n",
        "        self.parse_attr()\n",
        "\n",
        "    def get_html(self):\n",
        "        url = 'https://google.com/search?q=\"{}\"+{}&start={}'.format(urllib.parse.quote(self.name), self.keyword, (self.page-1)*10)\n",
        "        # 創建 WebDriver 實例\n",
        "        service = Service('chromedriver.exe')\n",
        "        # 添加無頭模式選項\n",
        "        options = webdriver.ChromeOptions()\n",
        "        #options.add_argument('--headless')  \n",
        "        driver = webdriver.Chrome(service=service, options=options)\n",
        "        \n",
        "        driver.get(url)\n",
        "        count = 0\n",
        "\n",
        "        # 獲取 HTML 源代碼\n",
        "        self.html = driver.page_source\n",
        "\n",
        "        # 關閉 WebDriver 實例\n",
        "        driver.quit()\n",
        "        while count < 3:\n",
        "            try:\n",
        "                result = requests.get(url, verify=False, auth=('user', 'pass'), headers=headers)\n",
        "                if result.status_code == 200:\n",
        "                    self.html = result.text\n",
        "                    break\n",
        "                elif result.status_code == 429:\n",
        "                    count = count+1\n",
        "                    time.sleep(60)\n",
        "            except:\n",
        "                time.sleep(sleep_time)\n",
        "                count = count+1\n",
        "        else:\n",
        "            raise ConnectionError('Cannot get the html')\n",
        "\n",
        "    def parse_attr(self):\n",
        "        soup = BeautifulSoup(self.html, 'html.parser')\n",
        "        self.soup = soup\n",
        "\n",
        "        self.top_address = [element.text for element in soup.findAll('div', {'class':'sXLaOe'})]\n",
        "\n",
        "        self.title_list = [element.find('h3').text for element in soup.findAll('div', {'class':'yuRUbf'})]\n",
        "        self.summary_list = [element.text for element in soup.findAll('div', {'class':'VwiC3b yXK7lf MUxGbd yDYNvb lyLwlc lEBKkf'})]\n",
        "\n",
        "\n",
        "    def to_dict(self, drop_html=True):\n",
        "\n",
        "        result = {\n",
        "                    'name' : self.name,\n",
        "                    'top_address' : self.top_address,\n",
        "                    'title_list' : self.title_list,\n",
        "                    'summary_list' : self.summary_list,\n",
        "                 }\n",
        "        if not drop_html:\n",
        "            result['html'] = self.html\n",
        "        return result\n"
      ]
    },
    {
      "cell_type": "code",
      "execution_count": 7,
      "metadata": {
        "colab": {
          "base_uri": "https://localhost:8080/"
        },
        "id": "lnqOIND__r3z",
        "outputId": "71f26dd8-f059-4eac-cb27-103597426b53"
      },
      "outputs": [
        {
          "data": {
            "text/plain": [
              "[['Netflix', ['科技嘗鮮族', '影音串流']],\n",
              " ['Spotify', ['科技嘗鮮族', '影音串流']],\n",
              " ['KKBOX', ['科技嘗鮮族', '影音串流']]]"
            ]
          },
          "execution_count": 7,
          "metadata": {},
          "output_type": "execute_result"
        }
      ],
      "source": [
        "tag = pd.read_excel('特店名&標籤.xlsx')\n",
        "brands = []\n",
        "tag_list = []\n",
        "for i in range(len(tag)):\n",
        "  brands.append([])\n",
        "  brands[i].append(tag['name'][i])\n",
        "  brands[i].append(tag['label'][i].split(\",\"))\n",
        "for element in brands:\n",
        "  for j in element[1]:\n",
        "    tag_list.append(j)\n",
        "tag_list = set(tag_list)\n",
        "pages = 3\n",
        "keywords = ['品牌']\n",
        "brands = brands[:3]\n",
        "brands"
      ]
    },
    {
      "cell_type": "code",
      "execution_count": 8,
      "metadata": {},
      "outputs": [
        {
          "name": "stdout",
          "output_type": "stream",
          "text": [
            "1 Netflix\n"
          ]
        }
      ],
      "source": [
        "# Function to handle individual merchant\n",
        "def process_merchant(brand, keyword, page):\n",
        "    try:\n",
        "        return Merchant(brand, keyword, page).to_dict()\n",
        "    except Exception as e:\n",
        "        print(f'Error with {brand} page {page}: {e}')\n",
        "        return None\n",
        "\n",
        "# ... Initialization and other code ...\n",
        "\n",
        "fp_output = r'C:/Users/User/OneDrive/桌面Dell/富邦/result_{}_{}.json'\n",
        "fp_job_status = r'C:/Users/User/OneDrive/桌面Dell/富邦/job_status_{}_{}.json'\n",
        "\n",
        "sleep_time = 5\n",
        "\n",
        "start_time = time.time()\n",
        "\n",
        "for i, keyword in enumerate(keywords):\n",
        "    if i != 0:\n",
        "        time.sleep(30)\n",
        "    job_status = {'fail_list': [], 'success_list': [], 'todo': [sublist[0] for sublist in brands], 'done_count': 0}\n",
        "    c = 0\n",
        "    for brand in job_status['todo']:\n",
        "        if c >= 45 and c % 5 == 0:\n",
        "            time.sleep(30)\n",
        "        c += 1\n",
        "        result = list()\n",
        "        print(c, brand)\n",
        "\n",
        "        # Using a thread pool to process merchants in parallel\n",
        "        #這裡使用 ThreadPoolExecutor 來並行處理每個品牌的不同頁面。這應該會顯著減少爬取整個網站所需的時間。\n",
        "        with ThreadPoolExecutor() as executor:\n",
        "            future_results = [executor.submit(process_merchant, brand, keyword, page) for page in range(1, pages + 1)]\n",
        "            for future in as_completed(future_results):\n",
        "                res = future.result()\n",
        "                if res is not None:\n",
        "                    result.append(res)\n",
        "\n",
        "        # ... Rest of the code ...\n",
        "\n",
        "        with open(fp_output.format(keyword, pages), 'w') as f:\n",
        "            json.dump(result, f)\n",
        "        with open(fp_job_status.format(keyword, pages), 'w') as f:\n",
        "            json.dump(job_status, f)\n",
        "\n",
        "        print('Keyword: {}, page: {} done.'.format(keyword, pages))\n",
        "        print('===========================================================================')\n"
      ]
    },
    {
      "cell_type": "code",
      "execution_count": null,
      "metadata": {},
      "outputs": [],
      "source": [
        "# Outside the loop, define a list to store all results\n",
        "all_results = []\n",
        "\n",
        "start_time = time.time()\n",
        "\n",
        "for i, keyword in enumerate(keywords):\n",
        "    # ... rest of the code ...\n",
        "    \n",
        "    for brand in job_status['todo']:\n",
        "        # ... rest of the code ...\n",
        "        \n",
        "        result = list()\n",
        "        print(c, brand)\n",
        "\n",
        "        with ThreadPoolExecutor() as executor:\n",
        "            future_results = [executor.submit(process_merchant, brand, keyword, page) for page in range(1, pages + 1)]\n",
        "            for future in as_completed(future_results):\n",
        "                res = future.result()\n",
        "                if res is not None:\n",
        "                    result.append(res)\n",
        "\n",
        "        # Append the result for this brand to the all_results list\n",
        "        all_results.append(result)\n",
        "\n",
        "        # ... Rest of the code ...\n",
        "\n",
        "# After the loop, write all results to the file\n",
        "with open(fp_output.format(keyword, pages), 'w') as f:\n",
        "    json.dump(all_results, f)\n"
      ]
    },
    {
      "cell_type": "code",
      "execution_count": 11,
      "metadata": {
        "id": "SLN5mlNe4Grg"
      },
      "outputs": [
        {
          "ename": "IndexError",
          "evalue": "list index out of range",
          "output_type": "error",
          "traceback": [
            "\u001b[1;31m---------------------------------------------------------------------------\u001b[0m",
            "\u001b[1;31mIndexError\u001b[0m                                Traceback (most recent call last)",
            "\u001b[1;32m~\\AppData\\Local\\Temp\\ipykernel_24780\\3911726167.py\u001b[0m in \u001b[0;36m<module>\u001b[1;34m\u001b[0m\n\u001b[0;32m     27\u001b[0m                 \u001b[0msummary_df\u001b[0m \u001b[1;33m=\u001b[0m \u001b[0mpd\u001b[0m\u001b[1;33m.\u001b[0m\u001b[0mconcat\u001b[0m\u001b[1;33m(\u001b[0m\u001b[1;33m[\u001b[0m\u001b[0msummary_df\u001b[0m\u001b[1;33m,\u001b[0m\u001b[0mtmp_df\u001b[0m\u001b[1;33m]\u001b[0m\u001b[1;33m)\u001b[0m\u001b[1;33m\u001b[0m\u001b[1;33m\u001b[0m\u001b[0m\n\u001b[0;32m     28\u001b[0m     \u001b[1;32mreturn\u001b[0m \u001b[0msummary_df\u001b[0m\u001b[1;33m\u001b[0m\u001b[1;33m\u001b[0m\u001b[0m\n\u001b[1;32m---> 29\u001b[1;33m \u001b[0msummary_df\u001b[0m \u001b[1;33m=\u001b[0m \u001b[0mcreate_summary_df\u001b[0m\u001b[1;33m(\u001b[0m\u001b[0mkeywords\u001b[0m\u001b[1;33m,\u001b[0m \u001b[0mbrands\u001b[0m\u001b[1;33m,\u001b[0m \u001b[0mpages\u001b[0m\u001b[1;33m)\u001b[0m\u001b[1;33m\u001b[0m\u001b[1;33m\u001b[0m\u001b[0m\n\u001b[0m\u001b[0;32m     30\u001b[0m \u001b[1;33m\u001b[0m\u001b[0m\n\u001b[0;32m     31\u001b[0m \u001b[1;31m#看這個特店的標籤是否有在所有label中，建立一個新cloumn\u001b[0m\u001b[1;33m\u001b[0m\u001b[1;33m\u001b[0m\u001b[0m\n",
            "\u001b[1;32m~\\AppData\\Local\\Temp\\ipykernel_24780\\3911726167.py\u001b[0m in \u001b[0;36mcreate_summary_df\u001b[1;34m(keyword_list, brands, pages)\u001b[0m\n\u001b[0;32m     17\u001b[0m                     \u001b[1;31m#with open(f'result_{keyword}_3.json') as f:\u001b[0m\u001b[1;33m\u001b[0m\u001b[1;33m\u001b[0m\u001b[0m\n\u001b[0;32m     18\u001b[0m                     \u001b[0mdata\u001b[0m \u001b[1;33m=\u001b[0m \u001b[0mjson\u001b[0m\u001b[1;33m.\u001b[0m\u001b[0mload\u001b[0m\u001b[1;33m(\u001b[0m\u001b[0mf\u001b[0m\u001b[1;33m)\u001b[0m\u001b[1;33m\u001b[0m\u001b[1;33m\u001b[0m\u001b[0m\n\u001b[1;32m---> 19\u001b[1;33m                 \u001b[1;32mfor\u001b[0m \u001b[0mi\u001b[0m \u001b[1;32min\u001b[0m \u001b[0mdata\u001b[0m\u001b[1;33m[\u001b[0m\u001b[0mbrand_index\u001b[0m\u001b[1;33m]\u001b[0m\u001b[1;33m[\u001b[0m\u001b[1;34m\"summary_list\"\u001b[0m\u001b[1;33m]\u001b[0m\u001b[1;33m:\u001b[0m\u001b[1;33m\u001b[0m\u001b[1;33m\u001b[0m\u001b[0m\n\u001b[0m\u001b[0;32m     20\u001b[0m                     \u001b[1;31m#去掉標點符號、日期\u001b[0m\u001b[1;33m\u001b[0m\u001b[1;33m\u001b[0m\u001b[0m\n\u001b[0;32m     21\u001b[0m                     \u001b[0mi\u001b[0m \u001b[1;33m=\u001b[0m \u001b[0mre\u001b[0m\u001b[1;33m.\u001b[0m\u001b[0msub\u001b[0m\u001b[1;33m(\u001b[0m\u001b[1;34mr'\\W'\u001b[0m\u001b[1;33m,\u001b[0m \u001b[1;34m\"\"\u001b[0m\u001b[1;33m,\u001b[0m \u001b[0mi\u001b[0m\u001b[1;33m)\u001b[0m\u001b[1;33m\u001b[0m\u001b[1;33m\u001b[0m\u001b[0m\n",
            "\u001b[1;31mIndexError\u001b[0m: list index out of range"
          ]
        }
      ],
      "source": [
        "import re\n",
        "\n",
        "\n",
        "#把爬下來的資料變成df\n",
        "def create_summary_df(keyword_list:list, brands:list, pages:list):\n",
        "    \"\"\"\n",
        "    input: keyword_list\n",
        "           brand : 所有品牌的list(多維)，[0]為特店名，[1]為那個特店的label(list)\n",
        "           pages : 搜尋頁數\n",
        "    output:組合而成df\n",
        "    \"\"\"\n",
        "    summary_df = pd.DataFrame()\n",
        "    for keyword in keyword_list:\n",
        "        for brand_index in range(len(brands)):\n",
        "            #for page in range(pages):\n",
        "                with open('C:/Users/User/OneDrive/桌面Dell/富邦/result_品牌_3.json') as f:\n",
        "                    #with open(f'result_{keyword}_3.json') as f:\n",
        "                    data = json.load(f)\n",
        "                for i in data[brand_index][\"summary_list\"]:\n",
        "                    #去掉標點符號、日期\n",
        "                    i = re.sub(r'\\W', \"\", i)\n",
        "                    i = re.sub(r'\\d+年\\d+月\\d+日', \"\", i)\n",
        "                tmp_df = pd.DataFrame({\"summary\":data[brand_index][\"summary_list\"]})\n",
        "                tmp_df['name'] = [data[brand_index][\"name\"]] * len(tmp_df)\n",
        "                tmp_df[\"category\"] = [brands[brand_index][1]] * len(tmp_df)\n",
        "                tmp_df[\"keyword\"] = [keyword] * len(tmp_df)\n",
        "                summary_df = pd.concat([summary_df,tmp_df])\n",
        "    return summary_df\n",
        "summary_df = create_summary_df(keywords, brands, pages)\n",
        "\n",
        "#看這個特店的標籤是否有在所有label中，建立一個新cloumn\n",
        "for tag in tag_list:\n",
        "    summary_df[tag] = summary_df.apply(lambda row: tag in row['category'], axis=1)\n",
        "summary_df = summary_df.reset_index(drop=True)\n",
        "summary_df"
      ]
    },
    {
      "cell_type": "code",
      "execution_count": null,
      "metadata": {
        "colab": {
          "base_uri": "https://localhost:8080/",
          "height": 427
        },
        "id": "ScLEiJ9z4Grf",
        "outputId": "f68101df-5b4b-440a-bbb9-8ac058c75aa4"
      },
      "outputs": [
        {
          "name": "stdout",
          "output_type": "stream",
          "text": [
            "1 Netflix\n",
            "Error: Netflix page 1 failed.\n"
          ]
        },
        {
          "name": "stderr",
          "output_type": "stream",
          "text": [
            "Exception ignored in: <function Service.__del__ at 0x0000019EA0B92790>\n",
            "Traceback (most recent call last):\n",
            "  File \"c:\\Users\\User\\anaconda3\\envs\\ml\\lib\\site-packages\\selenium\\webdriver\\common\\service.py\", line 193, in __del__\n",
            "    self.stop()\n",
            "  File \"c:\\Users\\User\\anaconda3\\envs\\ml\\lib\\site-packages\\selenium\\webdriver\\common\\service.py\", line 154, in stop\n",
            "    self.send_remote_shutdown_command()\n",
            "  File \"c:\\Users\\User\\anaconda3\\envs\\ml\\lib\\site-packages\\selenium\\webdriver\\common\\service.py\", line 138, in send_remote_shutdown_command\n",
            "    if not self.is_connectable():\n",
            "  File \"c:\\Users\\User\\anaconda3\\envs\\ml\\lib\\site-packages\\selenium\\webdriver\\common\\service.py\", line 127, in is_connectable\n",
            "    return utils.is_connectable(self.port)\n",
            "  File \"c:\\Users\\User\\anaconda3\\envs\\ml\\lib\\site-packages\\selenium\\webdriver\\common\\utils.py\", line 102, in is_connectable\n",
            "    socket_ = socket.create_connection((host, port), 1)\n",
            "  File \"c:\\Users\\User\\anaconda3\\envs\\ml\\lib\\socket.py\", line 832, in create_connection\n",
            "    sock.connect(sa)\n",
            "KeyboardInterrupt: \n"
          ]
        },
        {
          "name": "stdout",
          "output_type": "stream",
          "text": [
            "Error: Netflix page 2 failed.\n"
          ]
        },
        {
          "ename": "",
          "evalue": "",
          "output_type": "error",
          "traceback": [
            "\u001b[1;31mCanceled future for execute_request message before replies were done"
          ]
        }
      ],
      "source": [
        "# fp_output = r'C:/Users/User/OneDrive/桌面Dell/富邦/result_{}_{}.json'\n",
        "# fp_job_status = r'C:/Users/User/OneDrive/桌面Dell/富邦/job_status_{}_{}.json'\n",
        "\n",
        "\n",
        "# sleep_time = 5 #每一頁要隔五秒\n",
        "\n",
        "# start_time = time.time()\n",
        "# tic = time.time()\n",
        "# toc = time.time()\n",
        "\n",
        "# for i, keyword in enumerate(keywords):\n",
        "#     if i != 0:\n",
        "#         time.sleep(30) #大量的話要久一點\n",
        "#     job_status = {'fail_list' : [], 'success_list' : [], 'todo': [sublist[0] for sublist in brands], 'done_count': 0}\n",
        "#     c = 0\n",
        "#     for brand in job_status['todo']:\n",
        "#         if c >= 45 and c%5 == 0:\n",
        "#           time.sleep(30)\n",
        "#         c += 1\n",
        "#         result = list()\n",
        "#         print(c, brand)\n",
        "#         for page in range(1,pages+1,1):\n",
        "#             if time.time()-tic < sleep_time:\n",
        "#                 time.sleep(sleep_time)\n",
        "\n",
        "#             tic = time.time()\n",
        "#             try:\n",
        "#                 result.append(Merchant(brand, keyword, page).to_dict())\n",
        "#             except:\n",
        "#                 print('Error: {} page {} failed.'.format(brand, page))\n",
        "#                 continue\n",
        "\n",
        "\n",
        "#     with open(fp_output.format(keyword, page), 'w') as f:\n",
        "#             f.write(json.dumps(result))\n",
        "#     with open(fp_job_status.format(keyword, page), 'w') as f:\n",
        "#         json.dump(job_status, f)\n",
        "\n",
        "#     print('Keyword: {}, page: {} done.'.format(keyword, page))\n",
        "#     print('===========================================================================')\n"
      ]
    },
    {
      "cell_type": "code",
      "execution_count": null,
      "metadata": {
        "id": "1VbWURqoHisQ"
      },
      "outputs": [],
      "source": [
        "summary_df.to_csv('summary_df.csv')"
      ]
    },
    {
      "cell_type": "code",
      "execution_count": 14,
      "metadata": {},
      "outputs": [],
      "source": [
        "with open('C:/Users/User/OneDrive/桌面Dell/富邦/job_status_品牌_3.json') as f:\n",
        "                    #with open(f'result_{keyword}_3.json') as f:\n",
        "                    data = json.load(f)"
      ]
    },
    {
      "cell_type": "code",
      "execution_count": 15,
      "metadata": {},
      "outputs": [
        {
          "data": {
            "text/plain": [
              "{'fail_list': [],\n",
              " 'success_list': [],\n",
              " 'todo': ['Netflix',\n",
              "  'Spotify',\n",
              "  'KKBOX',\n",
              "  'Disney+',\n",
              "  '王道銀行',\n",
              "  'Line Bank',\n",
              "  '街口支付',\n",
              "  'GameFi',\n",
              "  'gogoro',\n",
              "  'Fitbit'],\n",
              " 'done_count': 0}"
            ]
          },
          "execution_count": 15,
          "metadata": {},
          "output_type": "execute_result"
        }
      ],
      "source": [
        "data"
      ]
    },
    {
      "cell_type": "code",
      "execution_count": null,
      "metadata": {},
      "outputs": [],
      "source": []
    }
  ],
  "metadata": {
    "colab": {
      "provenance": []
    },
    "kernelspec": {
      "display_name": "Python 3",
      "name": "python3"
    },
    "language_info": {
      "codemirror_mode": {
        "name": "ipython",
        "version": 3
      },
      "file_extension": ".py",
      "mimetype": "text/x-python",
      "name": "python",
      "nbconvert_exporter": "python",
      "pygments_lexer": "ipython3",
      "version": "3.9.13"
    }
  },
  "nbformat": 4,
  "nbformat_minor": 0
}
