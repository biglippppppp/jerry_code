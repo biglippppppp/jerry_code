{
 "cells": [
  {
   "cell_type": "code",
   "execution_count": 1,
   "metadata": {},
   "outputs": [],
   "source": [
    "import re"
   ]
  },
  {
   "attachments": {},
   "cell_type": "markdown",
   "metadata": {},
   "source": [
    "1. 分期pattern"
   ]
  },
  {
   "cell_type": "code",
   "execution_count": 2,
   "metadata": {},
   "outputs": [
    {
     "name": "stdout",
     "output_type": "stream",
     "text": [
      "playstation 01 * 32,22 > playstation 01 * 32,22\n",
      "元大人壽111 333,22(01/02期) > 元大人壽\n",
      "富邦人壽10* 6632,22(01/30期) > 富邦人壽\n",
      "德周太平店 143,00(01/36期) > 德周太平店\n",
      "連家*家樂福 6632,22(01/30期) > 連家*家樂福\n",
      "連家*網購-9 6632,22(01/30期) > 連家*網購\n",
      "playstation 01 * 32,22(01/02期) > playstation\n"
     ]
    }
   ],
   "source": [
    "# 一開始有中文字，後掛數字 然後會有空格，後面會有分期\n",
    "pattern = r'([A-Za-z|\\u4e00-\\u9fff|\\*]+)([\\*\\-|0-9]+)? (.+)\\(\\d+/\\d+期\\)'\n",
    "\n",
    "def extract_text(text, pattern):\n",
    "    match = re.search(pattern, text)\n",
    "    if match:\n",
    "        text = match.group(1)\n",
    "    return text\n",
    "\n",
    "# 测试示例数据\n",
    "strings = [\n",
    "    \"playstation 01 * 32,22\",\n",
    "    \"元大人壽111 333,22(01/02期)\",\n",
    "    \"富邦人壽10* 6632,22(01/30期)\",\n",
    "    \"德周太平店 143,00(01/36期)\",\n",
    "    \"連家*家樂福 6632,22(01/30期)\",\n",
    "    \"連家*網購-9 6632,22(01/30期)\",\n",
    "    \"playstation 01 * 32,22(01/02期)\"\n",
    "]\n",
    "\n",
    "for string in strings:\n",
    "    result = extract_text(string,pattern)\n",
    "    print(f\"{string} > {result}\")\n"
   ]
  },
  {
   "attachments": {},
   "cell_type": "markdown",
   "metadata": {},
   "source": []
  },
  {
   "attachments": {},
   "cell_type": "markdown",
   "metadata": {},
   "source": [
    "input一個list, 找尋這個key下面最長的子字串"
   ]
  },
  {
   "cell_type": "code",
   "execution_count": null,
   "metadata": {},
   "outputs": [],
   "source": [
    "strings = ['德周tvgame-竹北店', '德周tvgam', '德周tvgam 3,240(01/30期)']"
   ]
  },
  {
   "cell_type": "code",
   "execution_count": null,
   "metadata": {},
   "outputs": [],
   "source": []
  }
 ],
 "metadata": {
  "kernelspec": {
   "display_name": "base",
   "language": "python",
   "name": "python3"
  },
  "language_info": {
   "codemirror_mode": {
    "name": "ipython",
    "version": 3
   },
   "file_extension": ".py",
   "mimetype": "text/x-python",
   "name": "python",
   "nbconvert_exporter": "python",
   "pygments_lexer": "ipython3",
   "version": "3.9.10"
  },
  "orig_nbformat": 4
 },
 "nbformat": 4,
 "nbformat_minor": 2
}
